{
 "cells": [
  {
   "cell_type": "code",
   "execution_count": null,
   "id": "2fa6ca9c-348f-4a10-980b-0cce59da7a03",
   "metadata": {},
   "outputs": [],
   "source": [
    "%load_ext Onto_RAG_with_magics\n"
   ]
  },
  {
   "cell_type": "code",
   "execution_count": null,
   "id": "595f015f-81f1-4a54-b5d1-f2984842f203",
   "metadata": {},
   "outputs": [],
   "source": [
    "%%rag\n",
    "/agent how can I build a system from two fragments with the Python BigDFT module?"
   ]
  },
  {
   "cell_type": "code",
   "execution_count": null,
   "id": "691d8ca8-7aa0-4462-8270-75e74605d7d7",
   "metadata": {},
   "outputs": [],
   "source": [
    "%%rag\n",
    "/agent Can you show me how to calculate the energy of a system?"
   ]
  },
  {
   "cell_type": "code",
   "execution_count": null,
   "id": "1189e419-6564-433d-b65e-bd66599ef432",
   "metadata": {},
   "outputs": [],
   "source": [
    "%%rag\n",
    "/agent Can you create a Python function that calculates the energy of the N2 molecule with the BigDFT Python module?"
   ]
  },
  {
   "cell_type": "code",
   "execution_count": null,
   "id": "40549a3c-6688-485b-b6c9-a1c2d2e17a47",
   "metadata": {},
   "outputs": [],
   "source": [
    "%rag /agent_clear"
   ]
  },
  {
   "cell_type": "code",
   "execution_count": null,
   "id": "f29a7b68-d029-4b61-960e-503fc8703a77",
   "metadata": {},
   "outputs": [],
   "source": [
    "DOCUMENTS = [\n",
    "    {\"filepath\": \"../../1-humandoc/01-QuickStart.ipynb\", \"project_name\": \"BigDFT\", \"version\": \"1.9\"},\n",
    "    {\"filepath\": \"../../1-humandoc/02-N2.ipynb\", \"project_name\": \"BigDFT\", \"version\": \"1.9\"},\n",
    "    {\"filepath\": \"../../1-humandoc/03-BasisSetConvergence.ipynb\", \"project_name\": \"BigDFT\", \"version\": \"1.9\"},\n",
    "    {\"filepath\": \"../../1-humandoc/04-BasisSetComparison.ipynb\", \"project_name\": \"BigDFT\", \"version\": \"1.9\"},\n",
    "    {\"filepath\": \"../../1-humandoc/05-LinearScaling-QuickStart.ipynb\", \"project_name\": \"BigDFT\", \"version\": \"1.9\"},\n",
    "    {\"filepath\": \"../../1-humandoc/06-LinearScaling.ipynb\", \"project_name\": \"BigDFT\", \"version\": \"1.9\"}\n",
    "]\n",
    "%rag /add_docs DOCUMENTS\n"
   ]
  },
  {
   "cell_type": "code",
   "execution_count": null,
   "id": "2b9dac55-51d3-495f-9390-464e2843b274",
   "metadata": {},
   "outputs": [],
   "source": [
    "%%rag\n",
    "/agent how can I build a system from two fragments with the Python BigDFT module?"
   ]
  },
  {
   "cell_type": "code",
   "execution_count": null,
   "id": "1603bc74-7030-478b-b1e9-14dcb37e7d4f",
   "metadata": {},
   "outputs": [],
   "source": [
    "# %rag /agent no"
   ]
  },
  {
   "cell_type": "code",
   "execution_count": null,
   "id": "c56c1623-8e6c-4014-8117-b86bc5b63ca5",
   "metadata": {},
   "outputs": [],
   "source": [
    "%%rag\n",
    "/agent Can you show me how to calculate the energy of a system?"
   ]
  },
  {
   "cell_type": "code",
   "execution_count": null,
   "id": "8cc93466-2445-45e3-9138-be50b9b34403",
   "metadata": {},
   "outputs": [],
   "source": [
    "%%rag\n",
    "/agent Can you create a Python function that calculates the energy of the N2 molecule with the BigDFT Python module?"
   ]
  },
  {
   "cell_type": "code",
   "execution_count": null,
   "id": "0f4e0e56-3739-43fb-815e-a2d679e51cf2",
   "metadata": {},
   "outputs": [],
   "source": [
    "%%rag\n",
    "/agent can you write me a python function which calculates the atomization energy of the HCN molecule with PyBigDFT?"
   ]
  },
  {
   "cell_type": "code",
   "execution_count": null,
   "id": "22833d0a-66bc-4c51-b4fa-ebb5c650f806",
   "metadata": {},
   "outputs": [],
   "source": [
    "%%rag\n",
    "/agent can you rewrite this function by defining the positions of the HCN molecule as a BigDFT.Systems.System ?"
   ]
  },
  {
   "cell_type": "code",
   "execution_count": null,
   "id": "e1c15ad9-dc24-4fe0-ac30-f2985a5212ec",
   "metadata": {},
   "outputs": [],
   "source": [
    "%%rag\n",
    "/agent please specify explicitly angstroem units in the coordinates"
   ]
  },
  {
   "cell_type": "code",
   "execution_count": null,
   "id": "529a4b26-ae02-4e99-abc6-6c701bc14903",
   "metadata": {},
   "outputs": [],
   "source": [
    "%%rag\n",
    "/agent write all this python script is a single python function with all the imports inside"
   ]
  },
  {
   "cell_type": "code",
   "execution_count": null,
   "id": "24354317-1a5c-4b80-a54b-0b0127a1dc27",
   "metadata": {},
   "outputs": [],
   "source": []
  }
 ],
 "metadata": {
  "kernelspec": {
   "display_name": "Python (Hackathon Venv)",
   "language": "python",
   "name": "hackathon-venv"
  },
  "language_info": {
   "codemirror_mode": {
    "name": "ipython",
    "version": 3
   },
   "file_extension": ".py",
   "mimetype": "text/x-python",
   "name": "python",
   "nbconvert_exporter": "python",
   "pygments_lexer": "ipython3",
   "version": "3.10.12"
  }
 },
 "nbformat": 4,
 "nbformat_minor": 5
}
